{
 "cells": [
  {
   "cell_type": "code",
   "execution_count": 1,
   "id": "ac591328-7289-4801-b00b-6ad2daf689d6",
   "metadata": {},
   "outputs": [],
   "source": [
    "import os\n",
    "import mysql.connector\n",
    "import pandas as pd"
   ]
  },
  {
   "cell_type": "code",
   "execution_count": 2,
   "id": "7640ed1c-fd51-46b7-8910-59a87d65cdab",
   "metadata": {},
   "outputs": [],
   "source": [
    "host = os.environ['MYSQL_HOST']\n",
    "user = os.environ['MYSQL_USER']\n",
    "password = os.environ['MYSQL_PASSWORD']\n",
    "database = os.environ['MYSQL_DB']"
   ]
  },
  {
   "cell_type": "code",
   "execution_count": 3,
   "id": "81028924-d4f4-4eb5-9598-02b444340421",
   "metadata": {},
   "outputs": [],
   "source": [
    "# database connector\n",
    "cnx = mysql.connector.connect(user=user, password=password,\n",
    "                              host=host,\n",
    "                              database=database)\n",
    "\n"
   ]
  },
  {
   "cell_type": "markdown",
   "id": "35535b68-d7c4-4483-b00c-aff62f3547f0",
   "metadata": {},
   "source": [
    "1. How many movies are in data set ?"
   ]
  },
  {
   "cell_type": "code",
   "execution_count": 4,
   "id": "397585e7-be36-4b33-8e2e-c8761f25d816",
   "metadata": {},
   "outputs": [
    {
     "name": "stdout",
     "output_type": "stream",
     "text": [
      "There are [9742] movies in dataset.\n"
     ]
    }
   ],
   "source": [
    "sql_query = 'select count(distinct movieId, title) from movies_dataset.movies'\n",
    "print(f'There are {pd.read_sql(sql_query,cnx).values[0]} movies in dataset.')"
   ]
  },
  {
   "cell_type": "markdown",
   "id": "8a307aff-2241-45dc-a1ea-d6dd5602ac3f",
   "metadata": {},
   "source": [
    "2. What is the most common genre of movie?"
   ]
  },
  {
   "cell_type": "code",
   "execution_count": 5,
   "id": "a03d5c2e-a869-4fa7-bad2-e2f09bf539f9",
   "metadata": {},
   "outputs": [
    {
     "data": {
      "text/html": [
       "<div>\n",
       "<style scoped>\n",
       "    .dataframe tbody tr th:only-of-type {\n",
       "        vertical-align: middle;\n",
       "    }\n",
       "\n",
       "    .dataframe tbody tr th {\n",
       "        vertical-align: top;\n",
       "    }\n",
       "\n",
       "    .dataframe thead th {\n",
       "        text-align: right;\n",
       "    }\n",
       "</style>\n",
       "<table border=\"1\" class=\"dataframe\">\n",
       "  <thead>\n",
       "    <tr style=\"text-align: right;\">\n",
       "      <th></th>\n",
       "      <th>genres</th>\n",
       "      <th>count(*)</th>\n",
       "    </tr>\n",
       "  </thead>\n",
       "  <tbody>\n",
       "    <tr>\n",
       "      <th>0</th>\n",
       "      <td>(no genres listed)\\r</td>\n",
       "      <td>34</td>\n",
       "    </tr>\n",
       "    <tr>\n",
       "      <th>1</th>\n",
       "      <td>Action\\r</td>\n",
       "      <td>60</td>\n",
       "    </tr>\n",
       "    <tr>\n",
       "      <th>2</th>\n",
       "      <td>Action|Adventure\\r</td>\n",
       "      <td>32</td>\n",
       "    </tr>\n",
       "    <tr>\n",
       "      <th>3</th>\n",
       "      <td>Action|Adventure|Animation\\r</td>\n",
       "      <td>18</td>\n",
       "    </tr>\n",
       "    <tr>\n",
       "      <th>4</th>\n",
       "      <td>Action|Adventure|Animation|Children\\r</td>\n",
       "      <td>6</td>\n",
       "    </tr>\n",
       "  </tbody>\n",
       "</table>\n",
       "</div>"
      ],
      "text/plain": [
       "                                  genres  count(*)\n",
       "0                   (no genres listed)\\r        34\n",
       "1                               Action\\r        60\n",
       "2                     Action|Adventure\\r        32\n",
       "3           Action|Adventure|Animation\\r        18\n",
       "4  Action|Adventure|Animation|Children\\r         6"
      ]
     },
     "metadata": {},
     "output_type": "display_data"
    },
    {
     "data": {
      "text/html": [
       "<div>\n",
       "<style scoped>\n",
       "    .dataframe tbody tr th:only-of-type {\n",
       "        vertical-align: middle;\n",
       "    }\n",
       "\n",
       "    .dataframe tbody tr th {\n",
       "        vertical-align: top;\n",
       "    }\n",
       "\n",
       "    .dataframe thead th {\n",
       "        text-align: right;\n",
       "    }\n",
       "</style>\n",
       "<table border=\"1\" class=\"dataframe\">\n",
       "  <thead>\n",
       "    <tr style=\"text-align: right;\">\n",
       "      <th></th>\n",
       "      <th>genres</th>\n",
       "      <th>count(*)</th>\n",
       "    </tr>\n",
       "  </thead>\n",
       "  <tbody>\n",
       "    <tr>\n",
       "      <th>0</th>\n",
       "      <td>(no genres listed)</td>\n",
       "      <td>34</td>\n",
       "    </tr>\n",
       "    <tr>\n",
       "      <th>1</th>\n",
       "      <td>Action</td>\n",
       "      <td>60</td>\n",
       "    </tr>\n",
       "    <tr>\n",
       "      <th>2</th>\n",
       "      <td>Action|Adventure</td>\n",
       "      <td>32</td>\n",
       "    </tr>\n",
       "    <tr>\n",
       "      <th>3</th>\n",
       "      <td>Action|Adventure|Animation</td>\n",
       "      <td>18</td>\n",
       "    </tr>\n",
       "    <tr>\n",
       "      <th>4</th>\n",
       "      <td>Action|Adventure|Animation|Children</td>\n",
       "      <td>6</td>\n",
       "    </tr>\n",
       "  </tbody>\n",
       "</table>\n",
       "</div>"
      ],
      "text/plain": [
       "                                genres  count(*)\n",
       "0                   (no genres listed)        34\n",
       "1                               Action        60\n",
       "2                     Action|Adventure        32\n",
       "3           Action|Adventure|Animation        18\n",
       "4  Action|Adventure|Animation|Children         6"
      ]
     },
     "metadata": {},
     "output_type": "display_data"
    },
    {
     "data": {
      "text/plain": [
       "'column genres splitted: '"
      ]
     },
     "metadata": {},
     "output_type": "display_data"
    },
    {
     "data": {
      "text/html": [
       "<div>\n",
       "<style scoped>\n",
       "    .dataframe tbody tr th:only-of-type {\n",
       "        vertical-align: middle;\n",
       "    }\n",
       "\n",
       "    .dataframe tbody tr th {\n",
       "        vertical-align: top;\n",
       "    }\n",
       "\n",
       "    .dataframe thead th {\n",
       "        text-align: right;\n",
       "    }\n",
       "</style>\n",
       "<table border=\"1\" class=\"dataframe\">\n",
       "  <thead>\n",
       "    <tr style=\"text-align: right;\">\n",
       "      <th></th>\n",
       "      <th>0</th>\n",
       "      <th>1</th>\n",
       "      <th>2</th>\n",
       "      <th>3</th>\n",
       "      <th>4</th>\n",
       "      <th>5</th>\n",
       "      <th>6</th>\n",
       "      <th>7</th>\n",
       "      <th>8</th>\n",
       "      <th>9</th>\n",
       "    </tr>\n",
       "  </thead>\n",
       "  <tbody>\n",
       "    <tr>\n",
       "      <th>0</th>\n",
       "      <td>(no genres listed)</td>\n",
       "      <td>None</td>\n",
       "      <td>None</td>\n",
       "      <td>None</td>\n",
       "      <td>None</td>\n",
       "      <td>None</td>\n",
       "      <td>None</td>\n",
       "      <td>None</td>\n",
       "      <td>None</td>\n",
       "      <td>None</td>\n",
       "    </tr>\n",
       "    <tr>\n",
       "      <th>1</th>\n",
       "      <td>Action</td>\n",
       "      <td>None</td>\n",
       "      <td>None</td>\n",
       "      <td>None</td>\n",
       "      <td>None</td>\n",
       "      <td>None</td>\n",
       "      <td>None</td>\n",
       "      <td>None</td>\n",
       "      <td>None</td>\n",
       "      <td>None</td>\n",
       "    </tr>\n",
       "    <tr>\n",
       "      <th>2</th>\n",
       "      <td>Action</td>\n",
       "      <td>Adventure</td>\n",
       "      <td>None</td>\n",
       "      <td>None</td>\n",
       "      <td>None</td>\n",
       "      <td>None</td>\n",
       "      <td>None</td>\n",
       "      <td>None</td>\n",
       "      <td>None</td>\n",
       "      <td>None</td>\n",
       "    </tr>\n",
       "    <tr>\n",
       "      <th>3</th>\n",
       "      <td>Action</td>\n",
       "      <td>Adventure</td>\n",
       "      <td>Animation</td>\n",
       "      <td>None</td>\n",
       "      <td>None</td>\n",
       "      <td>None</td>\n",
       "      <td>None</td>\n",
       "      <td>None</td>\n",
       "      <td>None</td>\n",
       "      <td>None</td>\n",
       "    </tr>\n",
       "    <tr>\n",
       "      <th>4</th>\n",
       "      <td>Action</td>\n",
       "      <td>Adventure</td>\n",
       "      <td>Animation</td>\n",
       "      <td>Children</td>\n",
       "      <td>None</td>\n",
       "      <td>None</td>\n",
       "      <td>None</td>\n",
       "      <td>None</td>\n",
       "      <td>None</td>\n",
       "      <td>None</td>\n",
       "    </tr>\n",
       "  </tbody>\n",
       "</table>\n",
       "</div>"
      ],
      "text/plain": [
       "                    0          1          2         3     4     5     6     7  \\\n",
       "0  (no genres listed)       None       None      None  None  None  None  None   \n",
       "1              Action       None       None      None  None  None  None  None   \n",
       "2              Action  Adventure       None      None  None  None  None  None   \n",
       "3              Action  Adventure  Animation      None  None  None  None  None   \n",
       "4              Action  Adventure  Animation  Children  None  None  None  None   \n",
       "\n",
       "      8     9  \n",
       "0  None  None  \n",
       "1  None  None  \n",
       "2  None  None  \n",
       "3  None  None  \n",
       "4  None  None  "
      ]
     },
     "metadata": {},
     "output_type": "display_data"
    }
   ],
   "source": [
    "sql_query = 'select genres, count(*) from movies_dataset.movies group by genres'\n",
    "df = pd.read_sql(sql_query,cnx)\n",
    "display(df.head())\n",
    "#clean data\n",
    "df.genres = df.genres.str.replace('\\r', '')\n",
    "display(df.head())\n",
    "#split genres column\n",
    "genres_splitted = df.genres.str.split(pat = '|', expand = True)\n",
    "display('column genres splitted: ', genres_splitted.head())"
   ]
  },
  {
   "cell_type": "code",
   "execution_count": 6,
   "id": "b3f48989-35a2-4c84-8ffb-9096133a70d9",
   "metadata": {},
   "outputs": [
    {
     "data": {
      "text/plain": [
       "'VALUE COUNTS in first column:'"
      ]
     },
     "metadata": {},
     "output_type": "display_data"
    },
    {
     "data": {
      "text/plain": [
       "Action                341\n",
       "Adventure             173\n",
       "Comedy                110\n",
       "Animation              79\n",
       "Drama                  75\n",
       "Crime                  55\n",
       "Children               40\n",
       "Fantasy                17\n",
       "Horror                 16\n",
       "Documentary            13\n",
       "Mystery                 7\n",
       "Film-Noir               6\n",
       "Romance                 6\n",
       "Musical                 5\n",
       "Sci-Fi                  4\n",
       "War                     1\n",
       "(no genres listed)      1\n",
       "Thriller                1\n",
       "Western                 1\n",
       "Name: 0, dtype: int64"
      ]
     },
     "metadata": {},
     "output_type": "display_data"
    }
   ],
   "source": [
    "display(\"VALUE COUNTS in first column:\",df.genres.str.split(pat = '|', expand = True)[0].value_counts())"
   ]
  },
  {
   "cell_type": "code",
   "execution_count": 7,
   "id": "8c5ca8e9-74e9-4529-80e2-9af4f7f4a00d",
   "metadata": {},
   "outputs": [
    {
     "data": {
      "text/plain": [
       "'VALUE COUNTS over all columns:'"
      ]
     },
     "metadata": {},
     "output_type": "display_data"
    },
    {
     "data": {
      "text/plain": [
       "Drama                 349\n",
       "Comedy                341\n",
       "Action                341\n",
       "Adventure             310\n",
       "Thriller              274\n",
       "Fantasy               264\n",
       "Sci-Fi                236\n",
       "Animation             200\n",
       "Romance               200\n",
       "Crime                 181\n",
       "Children              174\n",
       "Mystery               166\n",
       "Horror                153\n",
       "Musical                96\n",
       "IMAX                   91\n",
       "War                    75\n",
       "Western                64\n",
       "Film-Noir              30\n",
       "Documentary            30\n",
       "(no genres listed)      1\n",
       "Name: value, dtype: int64"
      ]
     },
     "metadata": {},
     "output_type": "display_data"
    }
   ],
   "source": [
    "melted = genres_splitted.melt().value\n",
    "display(\"VALUE COUNTS over all columns:\",melted.value_counts())"
   ]
  },
  {
   "cell_type": "markdown",
   "id": "c88d1a46-2ced-4628-94fd-2da29afadac7",
   "metadata": {},
   "source": [
    "There is no straight answer to this question. If we assume that only first category assigned to the movie is main category then the action movies is the largest group in dataset. But if we assume that all categories assigned to the movie describe them equally then the drama movies is the most popular category."
   ]
  },
  {
   "cell_type": "markdown",
   "id": "b6ba08e6-cad6-47eb-8163-00a2bcbccb2c",
   "metadata": {},
   "source": [
    "3. What are top 10 movies with highest rate ?"
   ]
  },
  {
   "cell_type": "code",
   "execution_count": 8,
   "id": "c3b305b8-8315-4a22-be92-59b4d8e22f74",
   "metadata": {},
   "outputs": [
    {
     "data": {
      "text/plain": [
       "'TOP 10 MOVIES:'"
      ]
     },
     "metadata": {},
     "output_type": "display_data"
    },
    {
     "data": {
      "text/html": [
       "<div>\n",
       "<style scoped>\n",
       "    .dataframe tbody tr th:only-of-type {\n",
       "        vertical-align: middle;\n",
       "    }\n",
       "\n",
       "    .dataframe tbody tr th {\n",
       "        vertical-align: top;\n",
       "    }\n",
       "\n",
       "    .dataframe thead th {\n",
       "        text-align: right;\n",
       "    }\n",
       "</style>\n",
       "<table border=\"1\" class=\"dataframe\">\n",
       "  <thead>\n",
       "    <tr style=\"text-align: right;\">\n",
       "      <th></th>\n",
       "      <th>title</th>\n",
       "      <th>rating</th>\n",
       "    </tr>\n",
       "  </thead>\n",
       "  <tbody>\n",
       "    <tr>\n",
       "      <th>0</th>\n",
       "      <td>Forrest Gump (1994)</td>\n",
       "      <td>78.0</td>\n",
       "    </tr>\n",
       "    <tr>\n",
       "      <th>1</th>\n",
       "      <td>Raiders of the Lost Ark (Indiana Jones and the...</td>\n",
       "      <td>62.0</td>\n",
       "    </tr>\n",
       "    <tr>\n",
       "      <th>2</th>\n",
       "      <td>Gladiator (2000)</td>\n",
       "      <td>58.0</td>\n",
       "    </tr>\n",
       "    <tr>\n",
       "      <th>3</th>\n",
       "      <td>Silence of the Lambs, The (1991)</td>\n",
       "      <td>56.0</td>\n",
       "    </tr>\n",
       "    <tr>\n",
       "      <th>4</th>\n",
       "      <td>Pulp Fiction (1994)</td>\n",
       "      <td>56.0</td>\n",
       "    </tr>\n",
       "    <tr>\n",
       "      <th>5</th>\n",
       "      <td>Shawshank Redemption, The (1994)</td>\n",
       "      <td>56.0</td>\n",
       "    </tr>\n",
       "    <tr>\n",
       "      <th>6</th>\n",
       "      <td>Star Wars: Episode IV - A New Hope (1977)</td>\n",
       "      <td>54.0</td>\n",
       "    </tr>\n",
       "    <tr>\n",
       "      <th>7</th>\n",
       "      <td>Seven (a.k.a. Se7en) (1995)</td>\n",
       "      <td>52.0</td>\n",
       "    </tr>\n",
       "    <tr>\n",
       "      <th>8</th>\n",
       "      <td>Matrix, The (1999)</td>\n",
       "      <td>51.0</td>\n",
       "    </tr>\n",
       "    <tr>\n",
       "      <th>9</th>\n",
       "      <td>Schindler's List (1993)</td>\n",
       "      <td>49.0</td>\n",
       "    </tr>\n",
       "  </tbody>\n",
       "</table>\n",
       "</div>"
      ],
      "text/plain": [
       "                                               title  rating\n",
       "0                                Forrest Gump (1994)    78.0\n",
       "1  Raiders of the Lost Ark (Indiana Jones and the...    62.0\n",
       "2                                   Gladiator (2000)    58.0\n",
       "3                   Silence of the Lambs, The (1991)    56.0\n",
       "4                                Pulp Fiction (1994)    56.0\n",
       "5                   Shawshank Redemption, The (1994)    56.0\n",
       "6          Star Wars: Episode IV - A New Hope (1977)    54.0\n",
       "7                        Seven (a.k.a. Se7en) (1995)    52.0\n",
       "8                                 Matrix, The (1999)    51.0\n",
       "9                            Schindler's List (1993)    49.0"
      ]
     },
     "metadata": {},
     "output_type": "display_data"
    }
   ],
   "source": [
    "sql_query = '''\n",
    "select m.title, sum(r.rating) as rating\n",
    "from movies_dataset.ratings r\n",
    "left join  movies_dataset.movies m on r.movieId = m.movieId \n",
    "group by m.title\n",
    "order by rating DESC\n",
    "limit 10\n",
    "'''\n",
    "df = pd.read_sql(sql_query,cnx)\n",
    "display('TOP 10 MOVIES:', df)"
   ]
  },
  {
   "cell_type": "markdown",
   "id": "0d6da3a0-f937-4a79-b3c3-ddd2ea1c0e5b",
   "metadata": {},
   "source": [
    "4. What are 5 most often rating users ?\n",
    "\n",
    "*Comment: I understand this as users with the highest number of given rates."
   ]
  },
  {
   "cell_type": "code",
   "execution_count": 9,
   "id": "d13f1dc8-df83-4756-af72-43e1dc915411",
   "metadata": {},
   "outputs": [
    {
     "data": {
      "text/plain": [
       "'TOP 5 ACTIVE USERS:'"
      ]
     },
     "metadata": {},
     "output_type": "display_data"
    },
    {
     "data": {
      "text/html": [
       "<div>\n",
       "<style scoped>\n",
       "    .dataframe tbody tr th:only-of-type {\n",
       "        vertical-align: middle;\n",
       "    }\n",
       "\n",
       "    .dataframe tbody tr th {\n",
       "        vertical-align: top;\n",
       "    }\n",
       "\n",
       "    .dataframe thead th {\n",
       "        text-align: right;\n",
       "    }\n",
       "</style>\n",
       "<table border=\"1\" class=\"dataframe\">\n",
       "  <thead>\n",
       "    <tr style=\"text-align: right;\">\n",
       "      <th></th>\n",
       "      <th>userId</th>\n",
       "      <th>number_of_ratings</th>\n",
       "    </tr>\n",
       "  </thead>\n",
       "  <tbody>\n",
       "    <tr>\n",
       "      <th>0</th>\n",
       "      <td>19</td>\n",
       "      <td>703</td>\n",
       "    </tr>\n",
       "    <tr>\n",
       "      <th>1</th>\n",
       "      <td>18</td>\n",
       "      <td>502</td>\n",
       "    </tr>\n",
       "    <tr>\n",
       "      <th>2</th>\n",
       "      <td>21</td>\n",
       "      <td>443</td>\n",
       "    </tr>\n",
       "    <tr>\n",
       "      <th>3</th>\n",
       "      <td>6</td>\n",
       "      <td>314</td>\n",
       "    </tr>\n",
       "    <tr>\n",
       "      <th>4</th>\n",
       "      <td>28</td>\n",
       "      <td>299</td>\n",
       "    </tr>\n",
       "  </tbody>\n",
       "</table>\n",
       "</div>"
      ],
      "text/plain": [
       "   userId  number_of_ratings\n",
       "0      19                703\n",
       "1      18                502\n",
       "2      21                443\n",
       "3       6                314\n",
       "4      28                299"
      ]
     },
     "metadata": {},
     "output_type": "display_data"
    }
   ],
   "source": [
    "sql_query = '''\n",
    "select r.userId, count(r.rating) as number_of_ratings\n",
    "from movies_dataset.ratings r\n",
    "group by r.userId\n",
    "order by number_of_ratings desc\n",
    "limit 5\n",
    "'''\n",
    "df = pd.read_sql(sql_query,cnx)\n",
    "display('TOP 5 ACTIVE USERS:', df)"
   ]
  },
  {
   "cell_type": "markdown",
   "id": "7ae62e53-a3ff-4618-bbfe-4842dac48119",
   "metadata": {},
   "source": [
    "When was done first and last rate included in data set and what was the rated movie tittle?"
   ]
  },
  {
   "cell_type": "code",
   "execution_count": 10,
   "id": "a3d51315-d7c7-4910-af6e-042deb45a7a5",
   "metadata": {},
   "outputs": [
    {
     "data": {
      "text/html": [
       "<div>\n",
       "<style scoped>\n",
       "    .dataframe tbody tr th:only-of-type {\n",
       "        vertical-align: middle;\n",
       "    }\n",
       "\n",
       "    .dataframe tbody tr th {\n",
       "        vertical-align: top;\n",
       "    }\n",
       "\n",
       "    .dataframe thead th {\n",
       "        text-align: right;\n",
       "    }\n",
       "</style>\n",
       "<table border=\"1\" class=\"dataframe\">\n",
       "  <thead>\n",
       "    <tr style=\"text-align: right;\">\n",
       "      <th></th>\n",
       "      <th>first_date</th>\n",
       "      <th>last_date</th>\n",
       "    </tr>\n",
       "  </thead>\n",
       "  <tbody>\n",
       "    <tr>\n",
       "      <th>0</th>\n",
       "      <td>1996-06-22 10:56:16</td>\n",
       "      <td>2018-08-28 15:35:34</td>\n",
       "    </tr>\n",
       "  </tbody>\n",
       "</table>\n",
       "</div>"
      ],
      "text/plain": [
       "           first_date           last_date\n",
       "0 1996-06-22 10:56:16 2018-08-28 15:35:34"
      ]
     },
     "execution_count": 10,
     "metadata": {},
     "output_type": "execute_result"
    }
   ],
   "source": [
    "sql_query = '''\n",
    "select from_unixtime(min(timestamps)) as first_date, from_unixtime(max(timestamps)) as last_date from ratings;\n",
    "'''\n",
    "df = pd.read_sql(sql_query,cnx)\n",
    "df.head()"
   ]
  },
  {
   "cell_type": "code",
   "execution_count": 11,
   "id": "491fd135-b9e8-4220-b520-253f93739516",
   "metadata": {},
   "outputs": [
    {
     "name": "stdout",
     "output_type": "stream",
     "text": [
      "First rate\n"
     ]
    },
    {
     "data": {
      "text/html": [
       "<div>\n",
       "<style scoped>\n",
       "    .dataframe tbody tr th:only-of-type {\n",
       "        vertical-align: middle;\n",
       "    }\n",
       "\n",
       "    .dataframe tbody tr th {\n",
       "        vertical-align: top;\n",
       "    }\n",
       "\n",
       "    .dataframe thead th {\n",
       "        text-align: right;\n",
       "    }\n",
       "</style>\n",
       "<table border=\"1\" class=\"dataframe\">\n",
       "  <thead>\n",
       "    <tr style=\"text-align: right;\">\n",
       "      <th></th>\n",
       "      <th>title</th>\n",
       "      <th>timestamps</th>\n",
       "    </tr>\n",
       "  </thead>\n",
       "  <tbody>\n",
       "    <tr>\n",
       "      <th>0</th>\n",
       "      <td>Batman (1989)</td>\n",
       "      <td>1996-06-22 10:56:16</td>\n",
       "    </tr>\n",
       "  </tbody>\n",
       "</table>\n",
       "</div>"
      ],
      "text/plain": [
       "           title          timestamps\n",
       "0  Batman (1989) 1996-06-22 10:56:16"
      ]
     },
     "execution_count": 11,
     "metadata": {},
     "output_type": "execute_result"
    }
   ],
   "source": [
    "sql_query = '''\n",
    "select m.title, from_unixtime(r.timestamps) as timestamps\n",
    "from movies_dataset.ratings r\n",
    "left join  movies_dataset.movies m on r.movieId = m.movieId \n",
    "where r.timestamps = (select min(timestamps) from ratings);\n",
    "'''\n",
    "df = pd.read_sql(sql_query,cnx)\n",
    "print('First rate')\n",
    "df.head()"
   ]
  },
  {
   "cell_type": "code",
   "execution_count": 12,
   "id": "e6731b35-b02c-4329-84eb-838652587987",
   "metadata": {},
   "outputs": [
    {
     "name": "stdout",
     "output_type": "stream",
     "text": [
      "Last rate\n"
     ]
    },
    {
     "data": {
      "text/html": [
       "<div>\n",
       "<style scoped>\n",
       "    .dataframe tbody tr th:only-of-type {\n",
       "        vertical-align: middle;\n",
       "    }\n",
       "\n",
       "    .dataframe tbody tr th {\n",
       "        vertical-align: top;\n",
       "    }\n",
       "\n",
       "    .dataframe thead th {\n",
       "        text-align: right;\n",
       "    }\n",
       "</style>\n",
       "<table border=\"1\" class=\"dataframe\">\n",
       "  <thead>\n",
       "    <tr style=\"text-align: right;\">\n",
       "      <th></th>\n",
       "      <th>title</th>\n",
       "      <th>from_unixtime(r.timestamps)</th>\n",
       "    </tr>\n",
       "  </thead>\n",
       "  <tbody>\n",
       "    <tr>\n",
       "      <th>0</th>\n",
       "      <td>Deadpool 2 (2018)</td>\n",
       "      <td>2018-08-28 15:35:34</td>\n",
       "    </tr>\n",
       "  </tbody>\n",
       "</table>\n",
       "</div>"
      ],
      "text/plain": [
       "               title from_unixtime(r.timestamps)\n",
       "0  Deadpool 2 (2018)         2018-08-28 15:35:34"
      ]
     },
     "execution_count": 12,
     "metadata": {},
     "output_type": "execute_result"
    }
   ],
   "source": [
    "sql_query = '''\n",
    "select m.title, from_unixtime(r.timestamps)\n",
    "from movies_dataset.ratings r\n",
    "left join  movies_dataset.movies m on r.movieId = m.movieId \n",
    "where r.timestamps = (select max(timestamps) from ratings);\n",
    "'''\n",
    "df = pd.read_sql(sql_query,cnx)\n",
    "print('Last rate')\n",
    "df.head()"
   ]
  },
  {
   "cell_type": "code",
   "execution_count": null,
   "id": "4a8d0aae-82ba-4ed4-a279-034479e69336",
   "metadata": {},
   "outputs": [],
   "source": []
  }
 ],
 "metadata": {
  "kernelspec": {
   "display_name": "Python 3 (ipykernel)",
   "language": "python",
   "name": "python3"
  },
  "language_info": {
   "codemirror_mode": {
    "name": "ipython",
    "version": 3
   },
   "file_extension": ".py",
   "mimetype": "text/x-python",
   "name": "python",
   "nbconvert_exporter": "python",
   "pygments_lexer": "ipython3",
   "version": "3.8.12"
  }
 },
 "nbformat": 4,
 "nbformat_minor": 5
}
